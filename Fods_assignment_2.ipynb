{
  "nbformat": 4,
  "nbformat_minor": 0,
  "metadata": {
    "colab": {
      "provenance": []
    },
    "kernelspec": {
      "name": "python3",
      "display_name": "Python 3"
    },
    "language_info": {
      "name": "python"
    }
  },
  "cells": [
    {
      "cell_type": "markdown",
      "metadata": {
        "id": "UF1qIg5aojSK"
      },
      "source": [
        "# Importing necessary libraries"
      ]
    },
    {
      "cell_type": "code",
      "metadata": {
        "id": "o6PaVGt0e6YE"
      },
      "source": [
        "import numpy as np\n",
        "import pandas as pd\n",
        "import matplotlib.pyplot as plt\n",
        "import seaborn as sns\n",
        "from matplotlib.pyplot import figure"
      ],
      "execution_count": null,
      "outputs": []
    },
    {
      "cell_type": "code",
      "metadata": {
        "colab": {
          "base_uri": "https://localhost:8080/"
        },
        "id": "ts_mvZTyIO8P",
        "outputId": "07ccbdd6-b733-43b0-a8ab-a1160d9b5499"
      },
      "source": [
        "from google.colab import drive\n",
        "drive.mount('/content/drive')"
      ],
      "execution_count": null,
      "outputs": [
        {
          "output_type": "stream",
          "name": "stdout",
          "text": [
            "Mounted at /content/drive\n"
          ]
        }
      ]
    },
    {
      "cell_type": "markdown",
      "metadata": {
        "id": "TSoUSyYSogGH"
      },
      "source": [
        "# Importing the dataset"
      ]
    },
    {
      "cell_type": "code",
      "metadata": {
        "colab": {
          "base_uri": "https://localhost:8080/",
          "height": 206
        },
        "id": "vSFEX7Hqn4b0",
        "outputId": "f18b7e37-ac5e-4416-b685-0a9596da0c5b"
      },
      "source": [
        "df = pd.read_csv('/content/drive/MyDrive/FoDS-Assignment-2.csv')\n",
        "df.head()"
      ],
      "execution_count": null,
      "outputs": [
        {
          "output_type": "execute_result",
          "data": {
            "text/html": [
              "<div>\n",
              "<style scoped>\n",
              "    .dataframe tbody tr th:only-of-type {\n",
              "        vertical-align: middle;\n",
              "    }\n",
              "\n",
              "    .dataframe tbody tr th {\n",
              "        vertical-align: top;\n",
              "    }\n",
              "\n",
              "    .dataframe thead th {\n",
              "        text-align: right;\n",
              "    }\n",
              "</style>\n",
              "<table border=\"1\" class=\"dataframe\">\n",
              "  <thead>\n",
              "    <tr style=\"text-align: right;\">\n",
              "      <th></th>\n",
              "      <th>bedrooms</th>\n",
              "      <th>bathrooms</th>\n",
              "      <th>sqft_living</th>\n",
              "      <th>sqft_lot</th>\n",
              "      <th>floors</th>\n",
              "      <th>waterfront</th>\n",
              "      <th>view</th>\n",
              "      <th>condition</th>\n",
              "      <th>grade</th>\n",
              "      <th>sqft_above</th>\n",
              "      <th>sqft_basement</th>\n",
              "      <th>sqft_living15</th>\n",
              "      <th>sqft_lot15</th>\n",
              "      <th>price</th>\n",
              "    </tr>\n",
              "  </thead>\n",
              "  <tbody>\n",
              "    <tr>\n",
              "      <th>0</th>\n",
              "      <td>4</td>\n",
              "      <td>1.75</td>\n",
              "      <td>2120.0</td>\n",
              "      <td>7420</td>\n",
              "      <td>1.0</td>\n",
              "      <td>0</td>\n",
              "      <td>0</td>\n",
              "      <td>4</td>\n",
              "      <td>7</td>\n",
              "      <td>1060.0</td>\n",
              "      <td>1060</td>\n",
              "      <td>1540</td>\n",
              "      <td>7420</td>\n",
              "      <td>453000.0</td>\n",
              "    </tr>\n",
              "    <tr>\n",
              "      <th>1</th>\n",
              "      <td>4</td>\n",
              "      <td>2.50</td>\n",
              "      <td>2180.0</td>\n",
              "      <td>9861</td>\n",
              "      <td>2.0</td>\n",
              "      <td>0</td>\n",
              "      <td>2</td>\n",
              "      <td>3</td>\n",
              "      <td>8</td>\n",
              "      <td>2180.0</td>\n",
              "      <td>0</td>\n",
              "      <td>2390</td>\n",
              "      <td>9761</td>\n",
              "      <td>480000.0</td>\n",
              "    </tr>\n",
              "    <tr>\n",
              "      <th>2</th>\n",
              "      <td>3</td>\n",
              "      <td>1.50</td>\n",
              "      <td>1540.0</td>\n",
              "      <td>9800</td>\n",
              "      <td>1.0</td>\n",
              "      <td>0</td>\n",
              "      <td>0</td>\n",
              "      <td>3</td>\n",
              "      <td>7</td>\n",
              "      <td>1010.0</td>\n",
              "      <td>530</td>\n",
              "      <td>1600</td>\n",
              "      <td>8250</td>\n",
              "      <td>180500.0</td>\n",
              "    </tr>\n",
              "    <tr>\n",
              "      <th>3</th>\n",
              "      <td>3</td>\n",
              "      <td>3.50</td>\n",
              "      <td>2380.0</td>\n",
              "      <td>6250</td>\n",
              "      <td>2.0</td>\n",
              "      <td>0</td>\n",
              "      <td>3</td>\n",
              "      <td>3</td>\n",
              "      <td>8</td>\n",
              "      <td>1670.0</td>\n",
              "      <td>710</td>\n",
              "      <td>2540</td>\n",
              "      <td>4010</td>\n",
              "      <td>495000.0</td>\n",
              "    </tr>\n",
              "    <tr>\n",
              "      <th>4</th>\n",
              "      <td>4</td>\n",
              "      <td>2.50</td>\n",
              "      <td>2230.0</td>\n",
              "      <td>8500</td>\n",
              "      <td>2.0</td>\n",
              "      <td>0</td>\n",
              "      <td>0</td>\n",
              "      <td>3</td>\n",
              "      <td>8</td>\n",
              "      <td>2230.0</td>\n",
              "      <td>0</td>\n",
              "      <td>2270</td>\n",
              "      <td>8770</td>\n",
              "      <td>325000.0</td>\n",
              "    </tr>\n",
              "  </tbody>\n",
              "</table>\n",
              "</div>"
            ],
            "text/plain": [
              "   bedrooms  bathrooms  sqft_living  ...  sqft_living15  sqft_lot15     price\n",
              "0         4       1.75       2120.0  ...           1540        7420  453000.0\n",
              "1         4       2.50       2180.0  ...           2390        9761  480000.0\n",
              "2         3       1.50       1540.0  ...           1600        8250  180500.0\n",
              "3         3       3.50       2380.0  ...           2540        4010  495000.0\n",
              "4         4       2.50       2230.0  ...           2270        8770  325000.0\n",
              "\n",
              "[5 rows x 14 columns]"
            ]
          },
          "metadata": {},
          "execution_count": 3
        }
      ]
    },
    {
      "cell_type": "code",
      "metadata": {
        "id": "ac8td5QJp459",
        "colab": {
          "base_uri": "https://localhost:8080/"
        },
        "outputId": "673c6443-72eb-42fb-fa50-5b3d5e0fc7af"
      },
      "source": [
        "#Checking for null values and dropping them\n",
        "df.isnull().sum()"
      ],
      "execution_count": null,
      "outputs": [
        {
          "output_type": "stream",
          "name": "stdout",
          "text": [
            "<class 'pandas.core.frame.DataFrame'>\n",
            "RangeIndex: 1188 entries, 0 to 1187\n",
            "Data columns (total 14 columns):\n",
            " #   Column         Non-Null Count  Dtype  \n",
            "---  ------         --------------  -----  \n",
            " 0   bedrooms       1188 non-null   int64  \n",
            " 1   bathrooms      1188 non-null   float64\n",
            " 2   sqft_living    1174 non-null   float64\n",
            " 3   sqft_lot       1188 non-null   int64  \n",
            " 4   floors         1175 non-null   float64\n",
            " 5   waterfront     1188 non-null   int64  \n",
            " 6   view           1188 non-null   int64  \n",
            " 7   condition      1188 non-null   int64  \n",
            " 8   grade          1188 non-null   int64  \n",
            " 9   sqft_above     1174 non-null   float64\n",
            " 10  sqft_basement  1188 non-null   int64  \n",
            " 11  sqft_living15  1188 non-null   int64  \n",
            " 12  sqft_lot15     1188 non-null   int64  \n",
            " 13  price          1188 non-null   float64\n",
            "dtypes: float64(5), int64(9)\n",
            "memory usage: 130.1 KB\n"
          ]
        }
      ]
    },
    {
      "cell_type": "code",
      "metadata": {
        "id": "mINNfXWCp41J",
        "colab": {
          "base_uri": "https://localhost:8080/"
        },
        "outputId": "a308d96a-5702-43f7-d23b-d474ee12d97b"
      },
      "source": [
        "#Filling the missing values with interpolated values\n",
        "df = df.interpolate(method='linear',axis =0)\n",
        "df.info()"
      ],
      "execution_count": null,
      "outputs": [
        {
          "output_type": "stream",
          "name": "stdout",
          "text": [
            "<class 'pandas.core.frame.DataFrame'>\n",
            "RangeIndex: 1188 entries, 0 to 1187\n",
            "Data columns (total 14 columns):\n",
            " #   Column         Non-Null Count  Dtype  \n",
            "---  ------         --------------  -----  \n",
            " 0   bedrooms       1188 non-null   int64  \n",
            " 1   bathrooms      1188 non-null   float64\n",
            " 2   sqft_living    1188 non-null   float64\n",
            " 3   sqft_lot       1188 non-null   int64  \n",
            " 4   floors         1188 non-null   float64\n",
            " 5   waterfront     1188 non-null   int64  \n",
            " 6   view           1188 non-null   int64  \n",
            " 7   condition      1188 non-null   int64  \n",
            " 8   grade          1188 non-null   int64  \n",
            " 9   sqft_above     1188 non-null   float64\n",
            " 10  sqft_basement  1188 non-null   int64  \n",
            " 11  sqft_living15  1188 non-null   int64  \n",
            " 12  sqft_lot15     1188 non-null   int64  \n",
            " 13  price          1188 non-null   float64\n",
            "dtypes: float64(5), int64(9)\n",
            "memory usage: 130.1 KB\n"
          ]
        }
      ]
    },
    {
      "cell_type": "code",
      "metadata": {
        "id": "cG5_9wFqp4ju",
        "colab": {
          "base_uri": "https://localhost:8080/",
          "height": 320
        },
        "outputId": "aa4bf750-3a8f-4bd5-f89d-d3e2b7753bfb"
      },
      "source": [
        "df.describe()"
      ],
      "execution_count": null,
      "outputs": [
        {
          "output_type": "execute_result",
          "data": {
            "text/html": [
              "<div>\n",
              "<style scoped>\n",
              "    .dataframe tbody tr th:only-of-type {\n",
              "        vertical-align: middle;\n",
              "    }\n",
              "\n",
              "    .dataframe tbody tr th {\n",
              "        vertical-align: top;\n",
              "    }\n",
              "\n",
              "    .dataframe thead th {\n",
              "        text-align: right;\n",
              "    }\n",
              "</style>\n",
              "<table border=\"1\" class=\"dataframe\">\n",
              "  <thead>\n",
              "    <tr style=\"text-align: right;\">\n",
              "      <th></th>\n",
              "      <th>bedrooms</th>\n",
              "      <th>bathrooms</th>\n",
              "      <th>sqft_living</th>\n",
              "      <th>sqft_lot</th>\n",
              "      <th>floors</th>\n",
              "      <th>waterfront</th>\n",
              "      <th>view</th>\n",
              "      <th>condition</th>\n",
              "      <th>grade</th>\n",
              "      <th>sqft_above</th>\n",
              "      <th>sqft_basement</th>\n",
              "      <th>sqft_living15</th>\n",
              "      <th>sqft_lot15</th>\n",
              "      <th>price</th>\n",
              "    </tr>\n",
              "  </thead>\n",
              "  <tbody>\n",
              "    <tr>\n",
              "      <th>count</th>\n",
              "      <td>1188.000000</td>\n",
              "      <td>1188.000000</td>\n",
              "      <td>1188.000000</td>\n",
              "      <td>1.188000e+03</td>\n",
              "      <td>1188.000000</td>\n",
              "      <td>1188.000000</td>\n",
              "      <td>1188.000000</td>\n",
              "      <td>1188.000000</td>\n",
              "      <td>1188.000000</td>\n",
              "      <td>1188.000000</td>\n",
              "      <td>1188.000000</td>\n",
              "      <td>1188.000000</td>\n",
              "      <td>1188.000000</td>\n",
              "      <td>1.188000e+03</td>\n",
              "    </tr>\n",
              "    <tr>\n",
              "      <th>mean</th>\n",
              "      <td>3.382997</td>\n",
              "      <td>2.143098</td>\n",
              "      <td>2123.372896</td>\n",
              "      <td>1.579757e+04</td>\n",
              "      <td>1.510101</td>\n",
              "      <td>0.003367</td>\n",
              "      <td>0.245791</td>\n",
              "      <td>3.425926</td>\n",
              "      <td>7.687710</td>\n",
              "      <td>1814.976852</td>\n",
              "      <td>304.373737</td>\n",
              "      <td>2019.319865</td>\n",
              "      <td>12889.924242</td>\n",
              "      <td>5.524078e+05</td>\n",
              "    </tr>\n",
              "    <tr>\n",
              "      <th>std</th>\n",
              "      <td>0.930045</td>\n",
              "      <td>0.779664</td>\n",
              "      <td>961.723113</td>\n",
              "      <td>6.174847e+04</td>\n",
              "      <td>0.537361</td>\n",
              "      <td>0.057953</td>\n",
              "      <td>0.768059</td>\n",
              "      <td>0.658354</td>\n",
              "      <td>1.175121</td>\n",
              "      <td>856.086733</td>\n",
              "      <td>457.131093</td>\n",
              "      <td>686.068063</td>\n",
              "      <td>26913.741656</td>\n",
              "      <td>3.853805e+05</td>\n",
              "    </tr>\n",
              "    <tr>\n",
              "      <th>min</th>\n",
              "      <td>1.000000</td>\n",
              "      <td>0.500000</td>\n",
              "      <td>550.000000</td>\n",
              "      <td>6.960000e+02</td>\n",
              "      <td>1.000000</td>\n",
              "      <td>0.000000</td>\n",
              "      <td>0.000000</td>\n",
              "      <td>2.000000</td>\n",
              "      <td>5.000000</td>\n",
              "      <td>550.000000</td>\n",
              "      <td>0.000000</td>\n",
              "      <td>710.000000</td>\n",
              "      <td>942.000000</td>\n",
              "      <td>1.100000e+05</td>\n",
              "    </tr>\n",
              "    <tr>\n",
              "      <th>25%</th>\n",
              "      <td>3.000000</td>\n",
              "      <td>1.750000</td>\n",
              "      <td>1450.000000</td>\n",
              "      <td>5.198500e+03</td>\n",
              "      <td>1.000000</td>\n",
              "      <td>0.000000</td>\n",
              "      <td>0.000000</td>\n",
              "      <td>3.000000</td>\n",
              "      <td>7.000000</td>\n",
              "      <td>1190.000000</td>\n",
              "      <td>0.000000</td>\n",
              "      <td>1510.000000</td>\n",
              "      <td>5178.250000</td>\n",
              "      <td>3.297125e+05</td>\n",
              "    </tr>\n",
              "    <tr>\n",
              "      <th>50%</th>\n",
              "      <td>3.000000</td>\n",
              "      <td>2.250000</td>\n",
              "      <td>1950.000000</td>\n",
              "      <td>7.687000e+03</td>\n",
              "      <td>1.500000</td>\n",
              "      <td>0.000000</td>\n",
              "      <td>0.000000</td>\n",
              "      <td>3.000000</td>\n",
              "      <td>8.000000</td>\n",
              "      <td>1590.000000</td>\n",
              "      <td>0.000000</td>\n",
              "      <td>1880.000000</td>\n",
              "      <td>7665.000000</td>\n",
              "      <td>4.621850e+05</td>\n",
              "    </tr>\n",
              "    <tr>\n",
              "      <th>75%</th>\n",
              "      <td>4.000000</td>\n",
              "      <td>2.500000</td>\n",
              "      <td>2630.000000</td>\n",
              "      <td>1.080000e+04</td>\n",
              "      <td>2.000000</td>\n",
              "      <td>0.000000</td>\n",
              "      <td>0.000000</td>\n",
              "      <td>4.000000</td>\n",
              "      <td>8.000000</td>\n",
              "      <td>2250.375000</td>\n",
              "      <td>580.000000</td>\n",
              "      <td>2439.250000</td>\n",
              "      <td>10075.750000</td>\n",
              "      <td>6.623750e+05</td>\n",
              "    </tr>\n",
              "    <tr>\n",
              "      <th>max</th>\n",
              "      <td>8.000000</td>\n",
              "      <td>6.000000</td>\n",
              "      <td>9200.000000</td>\n",
              "      <td>1.651359e+06</td>\n",
              "      <td>3.000000</td>\n",
              "      <td>1.000000</td>\n",
              "      <td>4.000000</td>\n",
              "      <td>5.000000</td>\n",
              "      <td>13.000000</td>\n",
              "      <td>6640.000000</td>\n",
              "      <td>3000.000000</td>\n",
              "      <td>5790.000000</td>\n",
              "      <td>425581.000000</td>\n",
              "      <td>5.570000e+06</td>\n",
              "    </tr>\n",
              "  </tbody>\n",
              "</table>\n",
              "</div>"
            ],
            "text/plain": [
              "          bedrooms    bathrooms  ...     sqft_lot15         price\n",
              "count  1188.000000  1188.000000  ...    1188.000000  1.188000e+03\n",
              "mean      3.382997     2.143098  ...   12889.924242  5.524078e+05\n",
              "std       0.930045     0.779664  ...   26913.741656  3.853805e+05\n",
              "min       1.000000     0.500000  ...     942.000000  1.100000e+05\n",
              "25%       3.000000     1.750000  ...    5178.250000  3.297125e+05\n",
              "50%       3.000000     2.250000  ...    7665.000000  4.621850e+05\n",
              "75%       4.000000     2.500000  ...   10075.750000  6.623750e+05\n",
              "max       8.000000     6.000000  ...  425581.000000  5.570000e+06\n",
              "\n",
              "[8 rows x 14 columns]"
            ]
          },
          "metadata": {},
          "execution_count": 6
        }
      ]
    },
    {
      "cell_type": "code",
      "metadata": {
        "id": "D_RPmJL9pYPj"
      },
      "source": [
        "fig, axs = plt.subplots(13,figsize=(15,45))\n",
        "for i in range(len(df.columns)):\n",
        "    axs[i-1].boxplot(df[df.columns[i]])\n",
        "    axs[i-1].set_title(df.columns[i])"
      ],
      "execution_count": null,
      "outputs": []
    },
    {
      "cell_type": "code",
      "metadata": {
        "id": "ZDXw1I-pcYkT",
        "colab": {
          "base_uri": "https://localhost:8080/"
        },
        "outputId": "45715fc2-f9b3-490d-9cb4-4f37a83c40cb"
      },
      "source": [
        "# Using the interquartile range for the outliers\n",
        "highest_allowed = []\n",
        "lowest_allowed = []\n",
        "\n",
        "for i in df.columns:\n",
        "    highest_allowed.append(df[i].mean() + 3*df[i].std())\n",
        "    lowest_allowed.append(df[i].mean() - 3*df[i].std())\n",
        "print(highest_allowed)\n",
        "print(lowest_allowed)\n",
        "    # print(\"Highest allowed\",df[i].mean() + 3*df[i].std())\n",
        "    # print(\"Lowest allowed\",df[i].mean() - 3*df[i].std())"
      ],
      "execution_count": null,
      "outputs": [
        {
          "output_type": "stream",
          "name": "stdout",
          "text": [
            "[6.173132825539785, 4.482089067037499, 5008.5422346388805, 201042.97398773336, 3.122182631251497, 0.17722453996474422, 2.5499687285380093, 5.400988087474918, 11.213074681442079, 4383.2370519420165, 1675.767015008668, 4077.5240543213094, 93631.14920916248, 1708549.3849483298]\n",
            "[0.5928604404534803, -0.19589378084221298, -761.7964433930897, -169447.837624097, -0.10198061104947631, -0.17049053323073746, -2.058386236955518, 1.4508637643769347, 4.162346193978797, -753.2833482383123, -1067.0195402611932, -38.88432368157851, -67851.300724314, -603733.8293927743]\n"
          ]
        }
      ]
    },
    {
      "cell_type": "code",
      "metadata": {
        "id": "x0Z5FbZItRFk",
        "colab": {
          "base_uri": "https://localhost:8080/"
        },
        "outputId": "bb6315c8-b86e-478e-a355-74894c87daff"
      },
      "source": [
        "non_class_cols = df.columns[df.max() >15]\n",
        "class_cols = df.columns[df.max() <15]\n",
        "df1 = df.copy()\n",
        "for i in non_class_cols:\n",
        "  df1 = df1[df1[i] < df1[i].quantile(0.98)]\n",
        "df1.info()"
      ],
      "execution_count": null,
      "outputs": [
        {
          "output_type": "stream",
          "name": "stdout",
          "text": [
            "<class 'pandas.core.frame.DataFrame'>\n",
            "Int64Index: 1029 entries, 0 to 1187\n",
            "Data columns (total 14 columns):\n",
            " #   Column         Non-Null Count  Dtype  \n",
            "---  ------         --------------  -----  \n",
            " 0   bedrooms       1029 non-null   int64  \n",
            " 1   bathrooms      1029 non-null   float64\n",
            " 2   sqft_living    1029 non-null   float64\n",
            " 3   sqft_lot       1029 non-null   int64  \n",
            " 4   floors         1029 non-null   float64\n",
            " 5   waterfront     1029 non-null   int64  \n",
            " 6   view           1029 non-null   int64  \n",
            " 7   condition      1029 non-null   int64  \n",
            " 8   grade          1029 non-null   int64  \n",
            " 9   sqft_above     1029 non-null   float64\n",
            " 10  sqft_basement  1029 non-null   int64  \n",
            " 11  sqft_living15  1029 non-null   int64  \n",
            " 12  sqft_lot15     1029 non-null   int64  \n",
            " 13  price          1029 non-null   float64\n",
            "dtypes: float64(5), int64(9)\n",
            "memory usage: 120.6 KB\n"
          ]
        }
      ]
    },
    {
      "cell_type": "code",
      "metadata": {
        "id": "BAer2nGYKWNO"
      },
      "source": [
        "fig, axs = plt.subplots(13,figsize=(15,45))\n",
        "for i in range(len(df1.columns)):\n",
        "    axs[i-1].boxplot(df1[df1.columns[i]])\n",
        "    axs[i-1].set_title(df1.columns[i])"
      ],
      "execution_count": null,
      "outputs": []
    },
    {
      "cell_type": "code",
      "metadata": {
        "colab": {
          "base_uri": "https://localhost:8080/"
        },
        "id": "m9Wk_ze7Ledk",
        "outputId": "0e716734-1935-4757-c24f-e028c3fe4b17"
      },
      "source": [
        "norm_data = normalize_data(df1)\n",
        "norm_data.mean()"
      ],
      "execution_count": null,
      "outputs": [
        {
          "output_type": "execute_result",
          "data": {
            "text/plain": [
              "bedrooms         3.294461e+00\n",
              "bathrooms        2.017979e+00\n",
              "sqft_living      1.508350e-16\n",
              "sqft_lot        -5.220692e-17\n",
              "floors           1.483965e+00\n",
              "waterfront       1.943635e-03\n",
              "view             1.778426e-01\n",
              "condition        3.425656e+00\n",
              "grade            7.480078e+00\n",
              "sqft_above       1.638901e-16\n",
              "sqft_basement   -6.193081e-17\n",
              "sqft_living15   -1.109144e-16\n",
              "sqft_lot15       6.383243e-17\n",
              "price            3.213482e-01\n",
              "dtype: float64"
            ]
          },
          "metadata": {},
          "execution_count": 138
        }
      ]
    },
    {
      "cell_type": "code",
      "metadata": {
        "id": "xdqERHB1WTkl"
      },
      "source": [
        "norm_data.to_csv(\"/content/drive/MyDrive/clean_data_fods2.csv\")"
      ],
      "execution_count": null,
      "outputs": []
    },
    {
      "cell_type": "markdown",
      "metadata": {
        "id": "QWUpot8I3QIN"
      },
      "source": [
        "# Functions"
      ]
    },
    {
      "cell_type": "code",
      "metadata": {
        "id": "HvT0DzNAXZe0"
      },
      "source": [
        "def normalize_data(df1):\n",
        "  non_class_cols = df1.columns[df.max() >15]\n",
        "  class_cols = df1.columns[df.max() <15]\n",
        "  norm_data = (df1[non_class_cols] - df1[non_class_cols].mean(axis=0))/df1[non_class_cols].std(axis=0)\n",
        "  norm_data[class_cols] = df1[class_cols]\n",
        "  norm_data['price'] = (df1['price'] - df1['price'].min())/(df1['price'].max()-df1['price'].min())\n",
        "  norm_data = norm_data[df1.columns]\n",
        "\n",
        "  return norm_data"
      ],
      "execution_count": null,
      "outputs": []
    },
    {
      "cell_type": "code",
      "metadata": {
        "id": "7QD3jgdX7sde"
      },
      "source": [
        "def init_param_forward(X,Xtest,feature,Xt,Xte):\n",
        "  xtrain = np.hstack((Xt, X[:,feature].reshape(-1,1)))\n",
        "  xtest = np.hstack((Xte, Xtest[:,feature].reshape(-1,1)))\n",
        "  w = np.random.rand(xtrain.shape[1],1)\n",
        "  return xtrain,xtest, w"
      ],
      "execution_count": null,
      "outputs": []
    },
    {
      "cell_type": "code",
      "metadata": {
        "id": "DKpxHcnRAizq"
      },
      "source": [
        "def init_param_backward(Xt, Xte, feature):\n",
        "  xtrain = np.delete(Xt, feature,1)\n",
        "  xtest = np.delete(Xte, feature,1)\n",
        "  w = np.random.rand(xtrain.shape[1],1)\n",
        "  return xtrain,xtest,w"
      ],
      "execution_count": null,
      "outputs": []
    },
    {
      "cell_type": "code",
      "metadata": {
        "id": "pi954-sV3XWm"
      },
      "source": [
        "def compute_cost(yhat, y):\n",
        "\n",
        "  J =  np.sum(((yhat - y)**2))/(2*y.shape[0])\n",
        "\n",
        "  return J"
      ],
      "execution_count": null,
      "outputs": []
    },
    {
      "cell_type": "code",
      "metadata": {
        "id": "8UhaJnrp3VDm"
      },
      "source": [
        "def gradient_descent(X, y, w, learning_rate, n_iters):\n",
        "    J_history = np.zeros((n_iters,1))\n",
        "\n",
        "    for i in range(n_iters):\n",
        "      J_history[i] = compute_cost(X@w, y)\n",
        "      w = w - (learning_rate/X.shape[0]) * X.T @ (X @ w - y) \n",
        "        \n",
        "    return (J_history, w)"
      ],
      "execution_count": null,
      "outputs": []
    },
    {
      "cell_type": "code",
      "metadata": {
        "id": "_ZcMRPPPNn-j"
      },
      "source": [
        "def train_test_split(data, test_size=0.7):\n",
        "  shuffle_df = data.sample(frac=1)\n",
        "  train_size = int(test_size * len(data))\n",
        "\n",
        "  train_set = shuffle_df[:train_size]\n",
        "  test_set = shuffle_df[train_size:]\n",
        "\n",
        "  X_train = train_set.iloc[:,:-1].to_numpy()\n",
        "  y_train = train_set.iloc[:,-1].to_numpy().reshape(-1,1)\n",
        "\n",
        "  X_test = test_set.iloc[:,:-1].to_numpy()\n",
        "  y_test = test_set.iloc[:,-1].to_numpy().reshape(-1,1)\n",
        "\n",
        "  return X_train, y_train, X_test, y_test"
      ],
      "execution_count": null,
      "outputs": []
    },
    {
      "cell_type": "markdown",
      "metadata": {
        "id": "cBTxDWGzWkyw"
      },
      "source": [
        "# Feature selection"
      ]
    },
    {
      "cell_type": "code",
      "metadata": {
        "colab": {
          "base_uri": "https://localhost:8080/",
          "height": 206
        },
        "id": "QjNEJxFdWn5Y",
        "outputId": "e2914bcd-979a-4a51-e7a3-f6dbbfc6947f"
      },
      "source": [
        "data = pd.read_csv(\"/content/drive/MyDrive/clean_data_fods2.csv\")\n",
        "data.drop('Unnamed: 0', axis=1,inplace=True)\n",
        "data.head()"
      ],
      "execution_count": null,
      "outputs": [
        {
          "output_type": "execute_result",
          "data": {
            "text/html": [
              "<div>\n",
              "<style scoped>\n",
              "    .dataframe tbody tr th:only-of-type {\n",
              "        vertical-align: middle;\n",
              "    }\n",
              "\n",
              "    .dataframe tbody tr th {\n",
              "        vertical-align: top;\n",
              "    }\n",
              "\n",
              "    .dataframe thead th {\n",
              "        text-align: right;\n",
              "    }\n",
              "</style>\n",
              "<table border=\"1\" class=\"dataframe\">\n",
              "  <thead>\n",
              "    <tr style=\"text-align: right;\">\n",
              "      <th></th>\n",
              "      <th>bedrooms</th>\n",
              "      <th>bathrooms</th>\n",
              "      <th>sqft_living</th>\n",
              "      <th>sqft_lot</th>\n",
              "      <th>floors</th>\n",
              "      <th>waterfront</th>\n",
              "      <th>view</th>\n",
              "      <th>condition</th>\n",
              "      <th>grade</th>\n",
              "      <th>sqft_above</th>\n",
              "      <th>sqft_basement</th>\n",
              "      <th>sqft_living15</th>\n",
              "      <th>sqft_lot15</th>\n",
              "      <th>price</th>\n",
              "    </tr>\n",
              "  </thead>\n",
              "  <tbody>\n",
              "    <tr>\n",
              "      <th>0</th>\n",
              "      <td>4</td>\n",
              "      <td>1.75</td>\n",
              "      <td>0.321273</td>\n",
              "      <td>-0.174097</td>\n",
              "      <td>1.0</td>\n",
              "      <td>0</td>\n",
              "      <td>0</td>\n",
              "      <td>4</td>\n",
              "      <td>7</td>\n",
              "      <td>-0.893059</td>\n",
              "      <td>2.128945</td>\n",
              "      <td>-0.624715</td>\n",
              "      <td>-0.135822</td>\n",
              "      <td>0.303540</td>\n",
              "    </tr>\n",
              "    <tr>\n",
              "      <th>1</th>\n",
              "      <td>4</td>\n",
              "      <td>2.50</td>\n",
              "      <td>0.409421</td>\n",
              "      <td>0.140314</td>\n",
              "      <td>2.0</td>\n",
              "      <td>0</td>\n",
              "      <td>2</td>\n",
              "      <td>3</td>\n",
              "      <td>8</td>\n",
              "      <td>0.800405</td>\n",
              "      <td>-0.674776</td>\n",
              "      <td>0.933519</td>\n",
              "      <td>0.264654</td>\n",
              "      <td>0.327434</td>\n",
              "    </tr>\n",
              "    <tr>\n",
              "      <th>2</th>\n",
              "      <td>3</td>\n",
              "      <td>1.50</td>\n",
              "      <td>-0.530824</td>\n",
              "      <td>0.132457</td>\n",
              "      <td>1.0</td>\n",
              "      <td>0</td>\n",
              "      <td>0</td>\n",
              "      <td>3</td>\n",
              "      <td>7</td>\n",
              "      <td>-0.968660</td>\n",
              "      <td>0.727085</td>\n",
              "      <td>-0.514722</td>\n",
              "      <td>0.006166</td>\n",
              "      <td>0.062389</td>\n",
              "    </tr>\n",
              "    <tr>\n",
              "      <th>3</th>\n",
              "      <td>3</td>\n",
              "      <td>3.50</td>\n",
              "      <td>0.703248</td>\n",
              "      <td>-0.324797</td>\n",
              "      <td>2.0</td>\n",
              "      <td>0</td>\n",
              "      <td>3</td>\n",
              "      <td>3</td>\n",
              "      <td>8</td>\n",
              "      <td>0.029274</td>\n",
              "      <td>1.203188</td>\n",
              "      <td>1.208501</td>\n",
              "      <td>-0.719174</td>\n",
              "      <td>0.340708</td>\n",
              "    </tr>\n",
              "    <tr>\n",
              "      <th>4</th>\n",
              "      <td>4</td>\n",
              "      <td>2.50</td>\n",
              "      <td>0.482878</td>\n",
              "      <td>-0.034988</td>\n",
              "      <td>2.0</td>\n",
              "      <td>0</td>\n",
              "      <td>0</td>\n",
              "      <td>3</td>\n",
              "      <td>8</td>\n",
              "      <td>0.876006</td>\n",
              "      <td>-0.674776</td>\n",
              "      <td>0.713533</td>\n",
              "      <td>0.095123</td>\n",
              "      <td>0.190265</td>\n",
              "    </tr>\n",
              "  </tbody>\n",
              "</table>\n",
              "</div>"
            ],
            "text/plain": [
              "   bedrooms  bathrooms  sqft_living  ...  sqft_living15  sqft_lot15     price\n",
              "0         4       1.75     0.321273  ...      -0.624715   -0.135822  0.303540\n",
              "1         4       2.50     0.409421  ...       0.933519    0.264654  0.327434\n",
              "2         3       1.50    -0.530824  ...      -0.514722    0.006166  0.062389\n",
              "3         3       3.50     0.703248  ...       1.208501   -0.719174  0.340708\n",
              "4         4       2.50     0.482878  ...       0.713533    0.095123  0.190265\n",
              "\n",
              "[5 rows x 14 columns]"
            ]
          },
          "metadata": {},
          "execution_count": 93
        }
      ]
    },
    {
      "cell_type": "code",
      "metadata": {
        "colab": {
          "base_uri": "https://localhost:8080/"
        },
        "id": "ejHoMIgp25s7",
        "outputId": "fe1c3f7d-c5a5-4411-ab35-e68ff639baf6"
      },
      "source": [
        "X_train, y_train, X_test, y_test = train_test_split(data)\n",
        "print(X_train.shape, y_train.shape, X_test.shape, y_test.shape)"
      ],
      "execution_count": null,
      "outputs": [
        {
          "output_type": "stream",
          "name": "stdout",
          "text": [
            "(720, 13) (720, 1) (309, 13) (309, 1)\n"
          ]
        }
      ]
    },
    {
      "cell_type": "markdown",
      "metadata": {
        "id": "tRteegfe6K5h"
      },
      "source": [
        "### Greedy forward feature selection"
      ]
    },
    {
      "cell_type": "code",
      "metadata": {
        "colab": {
          "base_uri": "https://localhost:8080/",
          "height": 282
        },
        "id": "1nYawybl26pj",
        "outputId": "e694e6fd-ee31-4552-d237-d42f15d38c0d"
      },
      "source": [
        "feats = list(range(X_train.shape[1]))\n",
        "minJ_train = {}\n",
        "minJ_test = {}\n",
        "for i in range(X_train.shape[1]):\n",
        "  min_rms = 10**12\n",
        "  fwin = 0\n",
        "\n",
        "  for f in feats:\n",
        "    if(i==0):\n",
        "      xtrain = X_train[:, f].reshape(-1,1)\n",
        "      xtest = X_test[:,f].reshape(-1,1)\n",
        "      w = np.random.rand(xtrain.shape[1],1)\n",
        "    else:\n",
        "      xtrain, xtest, w = init_param_forward(X_train, X_test, f, Xt,Xte)\n",
        "    J_history, w = gradient_descent(xtrain, y_train, w, 0.01, 5000)\n",
        "\n",
        "    if(compute_cost(xtest@w,y_test) < min_rms):\n",
        "      min_rms = compute_cost(xtest@w, y_test)\n",
        "      min_rms_test = J_history[-1]\n",
        "      fwin = f\n",
        "\n",
        "  if(i == 0):\n",
        "    Xt = X_train[:,fwin].reshape(-1,1)\n",
        "    Xte = X_test[:,fwin].reshape(-1,1)\n",
        "  else:\n",
        "    Xt = np.hstack((Xt, X_train[:,fwin].reshape(-1,1)))\n",
        "    Xte = np.hstack((Xte, X_test[:,fwin].reshape(-1,1)))\n",
        "\n",
        "  minJ_train[str(fwin)] = float(min_rms)\n",
        "  minJ_test[str(fwin)] = float(min_rms_test)\n",
        "  feats.remove(fwin)\n",
        "plt.plot(list(minJ_train.keys()), list(minJ_train.values()))\n",
        "plt.plot(list(minJ_test.keys()), list(minJ_test.values()))\n",
        "plt.legend(['train','test'])"
      ],
      "execution_count": null,
      "outputs": [
        {
          "output_type": "execute_result",
          "data": {
            "text/plain": [
              "<matplotlib.legend.Legend at 0x7fc58c8bef10>"
            ]
          },
          "metadata": {},
          "execution_count": 200
        },
        {
          "output_type": "display_data",
          "data": {
            "image/png": "[encoded data removed]",
            "text/plain": [
              "<Figure size 432x288 with 1 Axes>"
            ]
          },
          "metadata": {
            "needs_background": "light"
          }
        }
      ]
    },
    {
      "cell_type": "markdown",
      "metadata": {
        "id": "s4pvjMbN6FD6"
      },
      "source": [
        "### Greedy backward feature selection\n"
      ]
    },
    {
      "cell_type": "code",
      "metadata": {
        "colab": {
          "base_uri": "https://localhost:8080/",
          "height": 282
        },
        "id": "G-3jB1u1Aa9o",
        "outputId": "e474a90e-8730-42ba-fd2d-2957a7e6f549"
      },
      "source": [
        "feats = list(range(X_train.shape[1]))\n",
        "Xt = X_train.copy()\n",
        "Xte = X_test.copy()\n",
        "minJ_train = {}\n",
        "minJ_test = {}\n",
        "for i in range(X_train.shape[1]):\n",
        "  min_rms = 10**12\n",
        "  fdrop = 0\n",
        "\n",
        "  for f in range(len(feats)):\n",
        "    xtrain,xtest, w = init_param_backward(Xt,Xte, f)\n",
        "    J_history, w = gradient_descent(xtrain, y_train, w, 0.01, 5000)\n",
        "    if(compute_cost(xtest@w, y_test) < min_rms):\n",
        "      min_rms = compute_cost(xtest@w, y_test)\n",
        "      min_rms_test = J_history[-1]\n",
        "      fdrop = feats[f]\n",
        "\n",
        "  Xt = np.delete(Xt, feats.index(fdrop), 1)\n",
        "  Xte = np.delete(Xte, feats.index(fdrop), 1)\n",
        "\n",
        "  minJ_train[str(fdrop)] = float(min_rms)\n",
        "  minJ_test[str(fdrop)] = float(min_rms_test)\n",
        "  feats.remove(fdrop)\n",
        "\n",
        "plt.plot(list(minJ_train.keys()), list(minJ_train.values()))\n",
        "plt.plot(list(minJ_test.keys()), list(minJ_test.values()))\n",
        "plt.legend(['train','test'])"
      ],
      "execution_count": null,
      "outputs": [
        {
          "output_type": "execute_result",
          "data": {
            "text/plain": [
              "<matplotlib.legend.Legend at 0x7fc58cb30510>"
            ]
          },
          "metadata": {},
          "execution_count": 198
        },
        {
          "output_type": "display_data",
          "data": {
            "image/png": "[encoded data removed]",
            "text/plain": [
              "<Figure size 432x288 with 1 Axes>"
            ]
          },
          "metadata": {
            "needs_background": "light"
          }
        }
      ]
    },
    {
      "cell_type": "markdown",
      "metadata": {
        "id": "smakGFy5NLP2"
      },
      "source": [
        "# No feature selection or preprocessing"
      ]
    },
    {
      "cell_type": "code",
      "metadata": {
        "id": "VN9A_ZDHae44"
      },
      "source": [
        "testdf = normalize_data(df)"
      ],
      "execution_count": null,
      "outputs": []
    },
    {
      "cell_type": "code",
      "metadata": {
        "colab": {
          "base_uri": "https://localhost:8080/"
        },
        "id": "dsoaJXY1NLBQ",
        "outputId": "30004134-71a7-4c12-fe8d-1d7d6ef8c8e6"
      },
      "source": [
        "X_train, y_train, X_test, y_test = train_test_split(testdf)\n",
        "print(X_train.shape, y_train.shape, X_test.shape, y_test.shape)"
      ],
      "execution_count": null,
      "outputs": [
        {
          "output_type": "stream",
          "name": "stdout",
          "text": [
            "(831, 13) (831, 1) (357, 13) (357, 1)\n"
          ]
        }
      ]
    },
    {
      "cell_type": "code",
      "metadata": {
        "colab": {
          "base_uri": "https://localhost:8080/"
        },
        "id": "yEap5ivJPqF9",
        "outputId": "27fc005b-3c78-4e91-ea0a-a643cd384489"
      },
      "source": [
        "w = np.random.rand(X_train.shape[1], 1)\n",
        "J_history, w = gradient_descent(X_train, y_train, w, 0.01, 5000)\n",
        "print(J_history[-1])\n",
        "compute_cost(X_test@w, y_test)"
      ],
      "execution_count": null,
      "outputs": [
        {
          "output_type": "stream",
          "name": "stdout",
          "text": [
            "[0.00200106]\n"
          ]
        },
        {
          "output_type": "execute_result",
          "data": {
            "text/plain": [
              "0.0016582628913315045"
            ]
          },
          "metadata": {},
          "execution_count": 207
        }
      ]
    }
  ]
}